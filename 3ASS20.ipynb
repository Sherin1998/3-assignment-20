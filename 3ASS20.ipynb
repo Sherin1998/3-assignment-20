{
 "cells": [
  {
   "cell_type": "code",
   "execution_count": 7,
   "metadata": {},
   "outputs": [
    {
     "name": "stdout",
     "output_type": "stream",
     "text": [
      "how many integers   :3\n",
      "how many strings   :2\n",
      "Enter no 0   :3\n",
      "Enter no 1   :5\n",
      "Enter no 2   :7\n",
      "Enter String 0   :sherij\n",
      "Enter String 1   :hshsfstnanana\n",
      "[3, 5, 7]\n"
     ]
    }
   ],
   "source": [
    "#1\n",
    "def filter_list(l):\n",
    "    r=[]\n",
    "    for i in l:\n",
    "        if(type(i)==int):\n",
    "            r.append(i)\n",
    "    return r\n",
    "            \n",
    "n=int(input('how many integers   :'))\n",
    "m=int(input('how many strings   :'))\n",
    "l=[]\n",
    "for i in range(n):\n",
    "    l.append(int(input('Enter no {}   :'.format(i))))\n",
    "for i in range(m):\n",
    "    l.append(input('Enter String {}   :'.format(i)))\n",
    "t=filter_list(l)\n",
    "print(t)"
   ]
  },
  {
   "cell_type": "code",
   "execution_count": 10,
   "metadata": {},
   "outputs": [
    {
     "name": "stdout",
     "output_type": "stream",
     "text": [
      "how many integers   :5\n",
      "Enter no 0   :0\n",
      "Enter no 1   :0\n",
      "Enter no 2   :0\n",
      "Enter no 3   :0\n",
      "Enter no 4   :0\n",
      "[0, 1, 2, 3, 4]\n"
     ]
    }
   ],
   "source": [
    "#2\n",
    "def add_indexes(l):\n",
    "    for i in range(len(l)):\n",
    "        l[i]=l[i]+i\n",
    "    return l\n",
    "        \n",
    "n=int(input('how many integers   :'))\n",
    "l=[]\n",
    "for i in range(n):\n",
    "    l.append(int(input('Enter no {}   :'.format(i))))\n",
    "q=add_indexes(l)                                                                            #add_indexes([1, 2, 3, 4, 5])                                                                                  # => [1,3,5,7,9]\n",
    "print(q)"
   ]
  },
  {
   "cell_type": "code",
   "execution_count": 15,
   "metadata": {},
   "outputs": [
    {
     "name": "stdout",
     "output_type": "stream",
     "text": [
      "Enter height  :15\n",
      "Enter radius  :6\n",
      "565.2\n"
     ]
    }
   ],
   "source": [
    "#3\n",
    "def cone_volume(h,r):\n",
    "    res=(1/3)*(3.14*r*r*h)\n",
    "    return res\n",
    "h=int(input('Enter height  :'))\n",
    "r=int(input('Enter radius  :'))\n",
    "q=cone_volume(h,r)\n",
    "print(round(q,2))"
   ]
  },
  {
   "cell_type": "code",
   "execution_count": 18,
   "metadata": {},
   "outputs": [
    {
     "name": "stdout",
     "output_type": "stream",
     "text": [
      "Enter Triange no  :6\n",
      "No of Dots : 21.0\n"
     ]
    }
   ],
   "source": [
    "#4\n",
    "def triangle(h):\n",
    "    x=(h*(h+1))/2\n",
    "    return x\n",
    "h=int(input('Enter Triange no  :'))\n",
    "i=triangle(h)\n",
    "print('No of Dots :',i)"
   ]
  },
  {
   "cell_type": "code",
   "execution_count": 14,
   "metadata": {},
   "outputs": [
    {
     "name": "stdout",
     "output_type": "stream",
     "text": [
      "10\n"
     ]
    }
   ],
   "source": [
    "#5\n",
    "def missing_num(l):\n",
    "    m=[i for i in range(1,11)]\n",
    "    s=sum(l)\n",
    "    t=sum(m)\n",
    "    return (t-s)\n",
    "    \n",
    "  \n",
    "                \n",
    "l=[7, 2, 3, 6, 5, 9, 1, 4, 8]\n",
    "e=missing_num(l)\n",
    "print(e)\n",
    "                               #[7, 2, 3, 6, 5, 9, 1, 4, 8],[10, 5, 1, 2, 4, 6, 8, 3, 9]"
   ]
  },
  {
   "cell_type": "code",
   "execution_count": null,
   "metadata": {},
   "outputs": [],
   "source": []
  }
 ],
 "metadata": {
  "kernelspec": {
   "display_name": "Python 3",
   "language": "python",
   "name": "python3"
  },
  "language_info": {
   "codemirror_mode": {
    "name": "ipython",
    "version": 3
   },
   "file_extension": ".py",
   "mimetype": "text/x-python",
   "name": "python",
   "nbconvert_exporter": "python",
   "pygments_lexer": "ipython3",
   "version": "3.8.3"
  }
 },
 "nbformat": 4,
 "nbformat_minor": 4
}
